{
  "nbformat": 4,
  "nbformat_minor": 0,
  "metadata": {
    "colab": {
      "name": "Codigos_GPIO_zero.ipynb",
      "provenance": [],
      "authorship_tag": "ABX9TyMGR9BcUAVsWHQVFt2914tV",
      "include_colab_link": true
    },
    "kernelspec": {
      "name": "python3",
      "display_name": "Python 3"
    },
    "language_info": {
      "name": "python"
    }
  },
  "cells": [
    {
      "cell_type": "markdown",
      "metadata": {
        "id": "view-in-github",
        "colab_type": "text"
      },
      "source": [
        "<a href=\"https://colab.research.google.com/github/MiguelVillamil/TareasPython/blob/master/GPIO/Codigos_GPIO_zero.ipynb\" target=\"_parent\"><img src=\"https://colab.research.google.com/assets/colab-badge.svg\" alt=\"Open In Colab\"/></a>"
      ]
    },
    {
      "cell_type": "markdown",
      "metadata": {
        "id": "0Ur7dBjFeh0g"
      },
      "source": [
        "* Mantener Boton "
      ]
    },
    {
      "cell_type": "code",
      "metadata": {
        "id": "KGRycAB7MvdL"
      },
      "source": [
        "from gpiozero import Button\n",
        "from signal import pause\n",
        "\n",
        "button = Button(2,hold_time=0.5, hold_repeat = True)\n",
        "button2 = Button(3,hold_time=0.5, hold_repeat = True)\n",
        "\n",
        "def printbtn(a):\n",
        "    print (\"abajo\",a)\n",
        "\n",
        "def printbtn2(a):\n",
        "    print (\"arriba\",a)\n",
        "\n",
        "try:\n",
        "    button.when_held = lambda: printbtn(1)\n",
        "    button2.when_held = lambda: printbtn2(2)\n",
        "    pause()\n",
        "finally:\n",
        "    \n",
        "    pass"
      ],
      "execution_count": null,
      "outputs": []
    },
    {
      "cell_type": "markdown",
      "metadata": {
        "id": "KO47IyKfepUo"
      },
      "source": [
        "* Presionar boton\n"
      ]
    },
    {
      "cell_type": "code",
      "metadata": {
        "id": "7xYD-bYbM1y9"
      },
      "source": [
        "from gpiozero import Button\n",
        "from signal import pause\n",
        "\n",
        "button = Button(2)\n",
        "button2 = Button(3)\n",
        "\n",
        "def printbtn(a):\n",
        "    print (\"oprimio el boton\",a)\n",
        "    \n",
        "\n",
        "try:\n",
        "    button.when_pressed = lambda: printbtn(1)\n",
        "    button2.when_pressed = lambda: printbtn(2)\n",
        "    pause()\n",
        "finally:\n",
        "    \n",
        "    pass"
      ],
      "execution_count": null,
      "outputs": []
    },
    {
      "cell_type": "markdown",
      "metadata": {
        "id": "2N07tfTse17j"
      },
      "source": [
        "* led\n",
        "\n"
      ]
    },
    {
      "cell_type": "code",
      "metadata": {
        "id": "jqlvQuxzOPEw"
      },
      "source": [
        "from gpiozero import Button\n",
        "from gpiozero import LED\n",
        "from signal import pause\n",
        "\n",
        "\n",
        "button = Button(2,hold_time=0.5, hold_repeat = True)\n",
        "button2 = Button(3,hold_time=0.5, hold_repeat = True)\n",
        "led = LED(4,initial_value= False)\n",
        "\n",
        "def on_off():\n",
        "    led.toggle()\n",
        "def cambiar():\n",
        "    if(led.is_lit):\n",
        "        led.value = 0\n",
        "    else:\n",
        "        led.value = 1\n",
        "def parpadear():\n",
        "    led.blink(on_time = 0.5, off_time = 0.5, n=5)\n",
        "    print(\"parpadeo\")\n",
        "try:\n",
        "    button.when_pressed = cambiar\n",
        "    button.when_released = cambiar\n",
        "    button2.when_pressed = on_off\n",
        "    button2.when_held = parpadear\n",
        "    pause()\n",
        "finally:\n",
        "    \n",
        "    pass"
      ],
      "execution_count": null,
      "outputs": []
    }
  ]
}