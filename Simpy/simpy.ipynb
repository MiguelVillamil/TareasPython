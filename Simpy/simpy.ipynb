{
  "nbformat": 4,
  "nbformat_minor": 0,
  "metadata": {
    "colab": {
      "name": "simpy.ipynb",
      "provenance": [],
      "authorship_tag": "ABX9TyN8ARniih9JDDvDDDgGqLMQ",
      "include_colab_link": true
    },
    "kernelspec": {
      "name": "python3",
      "display_name": "Python 3"
    },
    "language_info": {
      "name": "python"
    }
  },
  "cells": [
    {
      "cell_type": "markdown",
      "metadata": {
        "id": "view-in-github",
        "colab_type": "text"
      },
      "source": [
        "<a href=\"https://colab.research.google.com/github/MiguelVillamil/TareasPython/blob/master/Simpy/simpy.ipynb\" target=\"_parent\"><img src=\"https://colab.research.google.com/assets/colab-badge.svg\" alt=\"Open In Colab\"/></a>"
      ]
    },
    {
      "cell_type": "markdown",
      "metadata": {
        "id": "z4A4eoxvfyOR"
      },
      "source": [
        "##Ejercicio##\n",
        "1.)hacer la siguiente derivada:\n",
        "- $$y=  2x^4+ 34x^3 + 23,  \\frac{d^2y}{dx^2}$$  \n",
        "-  $$y= xln(x),  \\frac{dy}{dx} $$    "
      ]
    },
    {
      "cell_type": "code",
      "metadata": {
        "colab": {
          "base_uri": "https://localhost:8080/"
        },
        "id": "GNjtY-zlg9Ma",
        "outputId": "a04c0bd3-d20f-4ccd-a545-cd44d89c2955"
      },
      "source": [
        "\n",
        "from sympy import init_session\n",
        "init_session(use_latex=True)"
      ],
      "execution_count": 1,
      "outputs": [
        {
          "output_type": "stream",
          "name": "stdout",
          "text": [
            "IPython console for SymPy 1.7.1 (Python 3.7.11-64-bit) (ground types: python)\n",
            "\n",
            "These commands were executed:\n",
            ">>> from __future__ import division\n",
            ">>> from sympy import *\n",
            ">>> x, y, z, t = symbols('x y z t')\n",
            ">>> k, m, n = symbols('k m n', integer=True)\n",
            ">>> f, g, h = symbols('f g h', cls=Function)\n",
            ">>> init_printing()\n",
            "\n",
            "Documentation can be found at https://docs.sympy.org/1.7.1/\n",
            "\n"
          ]
        }
      ]
    },
    {
      "cell_type": "code",
      "metadata": {
        "colab": {
          "base_uri": "https://localhost:8080/",
          "height": 51
        },
        "id": "3TnELuwtflom",
        "outputId": "5b496cd4-86b0-40d8-d5b9-2b86dc2dd461"
      },
      "source": [
        "y= 2*x**4+34*x**3+23\n",
        "Derivative(y.diff(x,1),x,1)\n"
      ],
      "execution_count": 4,
      "outputs": [
        {
          "output_type": "execute_result",
          "data": {
            "image/png": "[encoded data removed]",
            "text/latex": "$\\displaystyle \\frac{d}{d x} \\left(8 x^{3} + 102 x^{2}\\right)$",
            "text/plain": [
              "d ⎛   3        2⎞\n",
              "──⎝8⋅x  + 102⋅x ⎠\n",
              "dx               "
            ]
          },
          "metadata": {},
          "execution_count": 4
        }
      ]
    },
    {
      "cell_type": "code",
      "metadata": {
        "colab": {
          "base_uri": "https://localhost:8080/",
          "height": 51
        },
        "id": "Q9lZ4vvNhS_G",
        "outputId": "02d14462-8328-4269-e8f7-a466f3ce9ce8"
      },
      "source": [
        "y2= x*log(x)\n",
        "Derivative(y2,x,1)"
      ],
      "execution_count": 5,
      "outputs": [
        {
          "output_type": "execute_result",
          "data": {
            "image/png": "[encoded data removed]",
            "text/latex": "$\\displaystyle \\frac{d}{d x} x \\log{\\left(x \\right)}$",
            "text/plain": [
              "d           \n",
              "──(x⋅log(x))\n",
              "dx          "
            ]
          },
          "metadata": {},
          "execution_count": 5
        }
      ]
    },
    {
      "cell_type": "markdown",
      "metadata": {
        "id": "KkOaDTR-h1xm"
      },
      "source": [
        "2.)Hacer estos siguientes ejercicios:  \n",
        "- expandir:$$ cos(\\frac{x^4}{y+1})$$  \n",
        "- factorizar : $$ x^2+6x+9 $$ "
      ]
    },
    {
      "cell_type": "code",
      "metadata": {
        "colab": {
          "base_uri": "https://localhost:8080/",
          "height": 101
        },
        "id": "UdgPvewsh-hK",
        "outputId": "7eaf1cd7-e690-48b3-dd7c-08dd3da0e6f6"
      },
      "source": [
        "y3=cos((x**4)/(y+1))\n",
        "y3extend=expand(y3)\n",
        "y3extend"
      ],
      "execution_count": 8,
      "outputs": [
        {
          "output_type": "execute_result",
          "data": {
            "image/png": "[encoded data removed]",
            "text/latex": "$\\displaystyle \\cos{\\left(\\frac{x^{4}}{\\cos{\\left(\\frac{x^{4}}{\\cos{\\left(\\frac{x^{4}}{x \\log{\\left(x \\right)} + 1} \\right)} + 1} \\right)} + 1} \\right)}$",
            "text/plain": [
              "   ⎛               4              ⎞\n",
              "   ⎜              x               ⎟\n",
              "cos⎜──────────────────────────────⎟\n",
              "   ⎜   ⎛           4         ⎞    ⎟\n",
              "   ⎜   ⎜          x          ⎟    ⎟\n",
              "   ⎜cos⎜─────────────────────⎟ + 1⎟\n",
              "   ⎜   ⎜   ⎛      4     ⎞    ⎟    ⎟\n",
              "   ⎜   ⎜   ⎜     x      ⎟    ⎟    ⎟\n",
              "   ⎜   ⎜cos⎜────────────⎟ + 1⎟    ⎟\n",
              "   ⎝   ⎝   ⎝x⋅log(x) + 1⎠    ⎠    ⎠"
            ]
          },
          "metadata": {},
          "execution_count": 8
        }
      ]
    },
    {
      "cell_type": "code",
      "metadata": {
        "colab": {
          "base_uri": "https://localhost:8080/",
          "height": 38
        },
        "id": "Hz0nvorQizex",
        "outputId": "f17fe1d5-c52c-4d3c-822c-0015fceb3305"
      },
      "source": [
        "y4=x**2+6*x+9\n",
        "y4factor=factor(y4)\n",
        "y4factor"
      ],
      "execution_count": 10,
      "outputs": [
        {
          "output_type": "execute_result",
          "data": {
            "image/png": "[encoded data removed]",
            "text/latex": "$\\displaystyle \\left(x + 3\\right)^{2}$",
            "text/plain": [
              "       2\n",
              "(x + 3) "
            ]
          },
          "metadata": {},
          "execution_count": 10
        }
      ]
    },
    {
      "cell_type": "markdown",
      "metadata": {
        "id": "THSrAvqjkr8G"
      },
      "source": [
        "3.) de la siguiente integral:\n",
        "$$\\int (2x+1)(x^2+x+1)dx$$  \n",
        "- dejarla explicita\n",
        "- hacer la integral primitiva\n",
        "- evaluarla"
      ]
    },
    {
      "cell_type": "code",
      "metadata": {
        "colab": {
          "base_uri": "https://localhost:8080/",
          "height": 55
        },
        "id": "78MVw_WXkxCS",
        "outputId": "53ba62f4-7b67-4b4e-f3f5-2bbafb9dcf4d"
      },
      "source": [
        "y5= (2*x+1)*(x**2+x+1)\n",
        "Integral(y5)"
      ],
      "execution_count": 18,
      "outputs": [
        {
          "output_type": "execute_result",
          "data": {
            "image/png": "[encoded data removed]",
            "text/latex": "$\\displaystyle \\int \\left(2 x + 1\\right) \\left(x^{2} + x + 1\\right)\\, dx$",
            "text/plain": [
              "⌠                          \n",
              "⎮           ⎛ 2        ⎞   \n",
              "⎮ (2⋅x + 1)⋅⎝x  + x + 1⎠ dx\n",
              "⌡                          "
            ]
          },
          "metadata": {},
          "execution_count": 18
        }
      ]
    },
    {
      "cell_type": "code",
      "metadata": {
        "colab": {
          "base_uri": "https://localhost:8080/",
          "height": 53
        },
        "id": "-IOKLbpil-BR",
        "outputId": "634232e0-d7d8-48db-99d8-be60c014d088"
      },
      "source": [
        "integrate(y5)"
      ],
      "execution_count": 19,
      "outputs": [
        {
          "output_type": "execute_result",
          "data": {
            "image/png": "[encoded data removed]",
            "text/latex": "$\\displaystyle \\frac{x^{4}}{2} + x^{3} + \\frac{3 x^{2}}{2} + x$",
            "text/plain": [
              " 4           2    \n",
              "x     3   3⋅x     \n",
              "── + x  + ──── + x\n",
              "2          2      "
            ]
          },
          "metadata": {},
          "execution_count": 19
        }
      ]
    },
    {
      "cell_type": "code",
      "metadata": {
        "colab": {
          "base_uri": "https://localhost:8080/",
          "height": 37
        },
        "id": "ASQU-DVymgB1",
        "outputId": "ef946d2d-80c5-4296-d3c7-cd8a50ea8840"
      },
      "source": [
        "integrate(y5,(x,0,1))"
      ],
      "execution_count": 20,
      "outputs": [
        {
          "output_type": "execute_result",
          "data": {
            "image/png": "[encoded data removed]",
            "text/latex": "$\\displaystyle 4$",
            "text/plain": [
              "4"
            ]
          },
          "metadata": {},
          "execution_count": 20
        }
      ]
    },
    {
      "cell_type": "markdown",
      "metadata": {
        "id": "-dMOgwn4nGEX"
      },
      "source": [
        "4.)de la siguiente matrix\n",
        " $$\n",
        "\\left(\\begin{array}{cc} \n",
        "12 & -34 & -45\\\\\n",
        "-34 & -23 & 100\\\\\n",
        "45 & 12 & 23\n",
        "\\end{array}\\right)\n",
        "$$\n",
        "- encontrar la inversa\n",
        "-  encontrar el determinante\n",
        "-  encontrar  la transpuesta"
      ]
    },
    {
      "cell_type": "code",
      "metadata": {
        "colab": {
          "base_uri": "https://localhost:8080/",
          "height": 78
        },
        "id": "KMZ2LQ9ZnNMm",
        "outputId": "76f440e0-2a70-45ca-e598-67c46a48e630"
      },
      "source": [
        "\n",
        "matriz=Matrix([[12,-34,-45],[-34,-23,100],[45,12,23]])\n",
        "matriz.inv()"
      ],
      "execution_count": 21,
      "outputs": [
        {
          "output_type": "execute_result",
          "data": {
            "text/latex": "$\\displaystyle \\left[\\begin{matrix}\\frac{91}{12029} & - \\frac{242}{228551} & \\frac{4435}{228551}\\\\- \\frac{278}{12029} & - \\frac{2301}{228551} & - \\frac{330}{228551}\\\\- \\frac{33}{12029} & \\frac{1674}{228551} & \\frac{1432}{228551}\\end{matrix}\\right]$",
            "text/plain": [
              "⎡  91   -242     4435 ⎤\n",
              "⎢─────  ──────  ──────⎥\n",
              "⎢12029  228551  228551⎥\n",
              "⎢                     ⎥\n",
              "⎢-278   -2301   -330  ⎥\n",
              "⎢─────  ──────  ──────⎥\n",
              "⎢12029  228551  228551⎥\n",
              "⎢                     ⎥\n",
              "⎢ -33    1674    1432 ⎥\n",
              "⎢─────  ──────  ──────⎥\n",
              "⎣12029  228551  228551⎦"
            ]
          },
          "metadata": {},
          "execution_count": 21
        }
      ]
    },
    {
      "cell_type": "code",
      "metadata": {
        "colab": {
          "base_uri": "https://localhost:8080/",
          "height": 37
        },
        "id": "x4nvzrEinpWU",
        "outputId": "44a53ac7-b75d-41a7-8229-782b910aa93d"
      },
      "source": [
        "matriz.det()"
      ],
      "execution_count": 22,
      "outputs": [
        {
          "output_type": "execute_result",
          "data": {
            "image/png": "[encoded data removed]",
            "text/latex": "$\\displaystyle -228551$",
            "text/plain": [
              "-228551"
            ]
          },
          "metadata": {},
          "execution_count": 22
        }
      ]
    },
    {
      "cell_type": "code",
      "metadata": {
        "colab": {
          "base_uri": "https://localhost:8080/",
          "height": 78
        },
        "id": "YU3w7f0NnuAF",
        "outputId": "0401e6db-7a1b-411a-c0af-0f567b28bee7"
      },
      "source": [
        "matriz.T"
      ],
      "execution_count": 24,
      "outputs": [
        {
          "output_type": "execute_result",
          "data": {
            "text/latex": "$\\displaystyle \\left[\\begin{matrix}12 & -34 & 45\\\\-34 & -23 & 12\\\\-45 & 100 & 23\\end{matrix}\\right]$",
            "text/plain": [
              "⎡12   -34  45⎤\n",
              "⎢            ⎥\n",
              "⎢-34  -23  12⎥\n",
              "⎢            ⎥\n",
              "⎣-45  100  23⎦"
            ]
          },
          "metadata": {},
          "execution_count": 24
        }
      ]
    }
  ]
}