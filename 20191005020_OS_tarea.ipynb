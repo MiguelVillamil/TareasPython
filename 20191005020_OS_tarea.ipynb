{
  "nbformat": 4,
  "nbformat_minor": 0,
  "metadata": {
    "colab": {
      "name": "20191005020_OS_tarea.ipynb",
      "provenance": [],
      "collapsed_sections": [],
      "authorship_tag": "ABX9TyPg3Ngu46DStP4mUYS1IOeU",
      "include_colab_link": true
    },
    "kernelspec": {
      "name": "python3",
      "display_name": "Python 3"
    },
    "language_info": {
      "name": "python"
    }
  },
  "cells": [
    {
      "cell_type": "markdown",
      "metadata": {
        "id": "view-in-github",
        "colab_type": "text"
      },
      "source": [
        "<a href=\"https://colab.research.google.com/github/MiguelVillamil/TareasPython/blob/master/20191005020_OS_tarea.ipynb\" target=\"_parent\"><img src=\"https://colab.research.google.com/assets/colab-badge.svg\" alt=\"Open In Colab\"/></a>"
      ]
    },
    {
      "cell_type": "markdown",
      "metadata": {
        "id": "-8ooAZNR1aWp"
      },
      "source": [
        "#Tarea OS\n",
        "Miguel Angel Villamil Espinosa \n",
        "cod 20191005020\n"
      ]
    },
    {
      "cell_type": "markdown",
      "metadata": {
        "id": "foLedNqM1yaj"
      },
      "source": [
        "\n",
        "*   Verifique en que ruta principal \n",
        "\n",
        "\n",
        "\n"
      ]
    },
    {
      "cell_type": "code",
      "metadata": {
        "colab": {
          "base_uri": "https://localhost:8080/"
        },
        "id": "nw1TV74mMXf_",
        "outputId": "ac005611-d05b-450e-ea21-16780b011dda"
      },
      "source": [
        "import os\n",
        "import sys\n",
        "\n",
        "#print(os.name)\n",
        "#print(sys. platform)\n",
        "\n",
        "print(os.getcwd())\n",
        "print(os.listdir())\n"
      ],
      "execution_count": 1,
      "outputs": [
        {
          "output_type": "stream",
          "text": [
            "/content\n",
            "['.config', 'sample_data']\n"
          ],
          "name": "stdout"
        }
      ]
    },
    {
      "cell_type": "markdown",
      "metadata": {
        "id": "Y0-djLWV2tXS"
      },
      "source": [
        "*Cree 3 directorios con los nombres de modulo1, modulo2, modulo3"
      ]
    },
    {
      "cell_type": "code",
      "metadata": {
        "colab": {
          "base_uri": "https://localhost:8080/"
        },
        "id": "_mTipOqhMts3",
        "outputId": "f95e5cfe-bf3f-44b3-b73d-41f578bd680e"
      },
      "source": [
        "\n",
        "os.mkdir('modulo1')\n",
        "os.mkdir('modulo2')\n",
        "os.mkdir('modulo3')\n",
        "os.listdir()"
      ],
      "execution_count": 2,
      "outputs": [
        {
          "output_type": "execute_result",
          "data": {
            "text/plain": [
              "['.config', 'modulo2', 'modulo3', 'modulo1', 'sample_data']"
            ]
          },
          "metadata": {},
          "execution_count": 2
        }
      ]
    },
    {
      "cell_type": "markdown",
      "metadata": {
        "id": "Ny1TdniVssDn"
      },
      "source": [
        "* los cuales contengan un archivo y un subdirectorio cada uno\n",
        "(comentario1, comentario2, etc. para los archivos y observaciones para los subdirectorios)."
      ]
    },
    {
      "cell_type": "code",
      "metadata": {
        "id": "87sdtylOVsXh"
      },
      "source": [
        "\n",
        "file = open('modulo1/comentario1.txt','a+')\n",
        "os.chdir('modulo1')\n",
        "\n",
        "os.mkdir('observaciones')\n",
        "os.chdir('/content')"
      ],
      "execution_count": 3,
      "outputs": []
    },
    {
      "cell_type": "code",
      "metadata": {
        "id": "GaRhKyXbs5tR"
      },
      "source": [
        "\n",
        "file = open('modulo2/comentario2.txt','a+')\n",
        "os.chdir('modulo2')\n",
        "\n",
        "os.mkdir('observaciones')\n",
        "os.chdir('/content')"
      ],
      "execution_count": 4,
      "outputs": []
    },
    {
      "cell_type": "code",
      "metadata": {
        "id": "JNrT3YqVs6Em"
      },
      "source": [
        "\n",
        "file = open('modulo3/comentario3.txt','a+')\n",
        "os.chdir('modulo3')\n",
        "\n",
        "os.mkdir('observaciones')\n",
        "os.chdir('/content')"
      ],
      "execution_count": 5,
      "outputs": []
    },
    {
      "cell_type": "markdown",
      "metadata": {
        "id": "ypxq_po64CRT"
      },
      "source": [
        "* renombre los 3 directorios a Modulacion, Transicion y CopiaDeSeguridad"
      ]
    },
    {
      "cell_type": "code",
      "metadata": {
        "id": "EHF7b9aq04Bj"
      },
      "source": [
        "os.rename('modulo1','Modulacion')\n",
        "os.rename('modulo2','Transicion')\n",
        "os.rename('modulo3','CopiaDeSeguridad')"
      ],
      "execution_count": 6,
      "outputs": []
    },
    {
      "cell_type": "markdown",
      "metadata": {
        "id": "opim9tag4FoC"
      },
      "source": [
        "* para uno de los tres directorios crear la tupla que contiene la informacion general del mismo.\n"
      ]
    },
    {
      "cell_type": "code",
      "metadata": {
        "colab": {
          "base_uri": "https://localhost:8080/"
        },
        "id": "Uk6xYqS81HUH",
        "outputId": "2da59224-e99b-4eaf-cf22-f198d18e2ae3"
      },
      "source": [
        "os.stat('CopiaDeSeguridad')"
      ],
      "execution_count": 7,
      "outputs": [
        {
          "output_type": "execute_result",
          "data": {
            "text/plain": [
              "os.stat_result(st_mode=16877, st_ino=6029521, st_dev=51, st_nlink=3, st_uid=0, st_gid=0, st_size=4096, st_atime=1629333322, st_mtime=1629333322, st_ctime=1629333322)"
            ]
          },
          "metadata": {},
          "execution_count": 7
        }
      ]
    }
  ]
}